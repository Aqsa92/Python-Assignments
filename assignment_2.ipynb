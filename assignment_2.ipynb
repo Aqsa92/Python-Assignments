{
 "cells": [
  {
   "cell_type": "code",
   "execution_count": null,
   "metadata": {},
   "outputs": [],
   "source": [
    "\n",
    "print(\"Enter your marks in these subjects\");\n",
    "e = int(input(\"English\"))\n",
    "m = int(input(\"Maths\"))\n",
    "a = int(input(\"Accounting\"))\n",
    "u = int(input(\"Urdu\"))\n",
    "s = int(input(\"Science\"))\n",
    "print(\"total marks 500\")\n",
    "o = (e + m + a + u + s)\n",
    "print(\"obtained marks\")\n",
    "print(o)\n",
    "p = o / 500 * 100;\n",
    "\n",
    "print(\"Grade\")\n",
    "if p >= 80:\n",
    "  print(\"A+\")\n",
    "elif p >= 70:\n",
    "  print(\"A\")\n",
    "elif p >= 60:\n",
    "  print(\"B\")\n",
    "elif p >= 50:\n",
    "  print(\"C\")\n",
    "elif p < 50:\n",
    "  print(\"D\");\n",
    "elif p < 40:\n",
    "  print(\"E\")\n",
    "elif p < 33:\n",
    "  print(\"Fail\")  \n",
    "else:\n",
    "  print(\"You haven't given appropirate answers\")\n",
    "\n"
   ]
  },
  {
   "cell_type": "code",
   "execution_count": null,
   "metadata": {},
   "outputs": [],
   "source": [
    "arr = [\"AIL\",5,\"SAAD\",4,\"AHMED\",7,8,False]\n",
    "add = arr[1]+arr[3]+arr[5]+arr[6]\n",
    "print(add)"
   ]
  },
  {
   "cell_type": "code",
   "execution_count": null,
   "metadata": {},
   "outputs": [],
   "source": [
    "arr = [2,5,6,4,3,7,8,9]\n",
    "largest_num = arr[7]\n",
    "print(largest_num)\n"
   ]
  },
  {
   "cell_type": "code",
   "execution_count": null,
   "metadata": {},
   "outputs": [],
   "source": [
    "arr = [2,5,6,4,3,7,8,9]\n",
    "if arr[0]<5:\n",
    "  print(arr[0]);\n",
    "if arr[1]<5:\n",
    "  print(arr[1]);\n",
    "if arr[2]<5:\n",
    "  print(arr[2]);\n",
    "if arr[3]<5:\n",
    "  print(arr[3]);\n",
    "if arr[4]<5:\n",
    "  print(arr[4]);\n",
    "if arr[5]<5:\n",
    "  print(arr[5]);\n",
    "if arr[6]<5:\n",
    "  print(arr[6]);\n",
    "if arr[7]<5:\n",
    "  print(arr[7]);"
   ]
  },
  {
   "cell_type": "code",
   "execution_count": 2,
   "metadata": {},
   "outputs": [
    {
     "name": "stdout",
     "output_type": "stream",
     "text": [
      "Enter a number12\n",
      "it is even\n"
     ]
    }
   ],
   "source": [
    "n = int(input(\"Enter a number\"))\n",
    "if n % 2 == 0:\n",
    "    print (\"it is even\")\n",
    "else:\n",
    "    print(\"it is odd\")"
   ]
  },
  {
   "cell_type": "code",
   "execution_count": null,
   "metadata": {},
   "outputs": [],
   "source": []
  },
  {
   "cell_type": "code",
   "execution_count": null,
   "metadata": {},
   "outputs": [],
   "source": []
  }
 ],
 "metadata": {
  "kernelspec": {
   "display_name": "Python 3",
   "language": "python",
   "name": "python3"
  },
  "language_info": {
   "codemirror_mode": {
    "name": "ipython",
    "version": 3
   },
   "file_extension": ".py",
   "mimetype": "text/x-python",
   "name": "python",
   "nbconvert_exporter": "python",
   "pygments_lexer": "ipython3",
   "version": "3.7.4"
  }
 },
 "nbformat": 4,
 "nbformat_minor": 2
}
