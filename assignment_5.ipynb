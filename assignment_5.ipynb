{
 "cells": [
  {
   "cell_type": "code",
   "execution_count": 1,
   "metadata": {},
   "outputs": [
    {
     "name": "stdout",
     "output_type": "stream",
     "text": [
      "2\n",
      "6\n",
      "4\n",
      "8\n",
      "0\n"
     ]
    }
   ],
   "source": [
    "#Question no 1\n",
    "\n",
    "def even_numbers():\n",
    "\n",
    "    arr = [2,5,6,4,3,7,8,9,0]\n",
    "\n",
    "    for numbers in arr:\n",
    "        if numbers % 2 == 0:\n",
    "            print(numbers)\n",
    "even_numbers()            \n",
    "        "
   ]
  },
  {
   "cell_type": "code",
   "execution_count": 21,
   "metadata": {},
   "outputs": [
    {
     "name": "stdout",
     "output_type": "stream",
     "text": [
      "0\n"
     ]
    }
   ],
   "source": [
    "def factorial_of_num(num):\n",
    "    \n",
    "    numbers = [1,2,3,4,5,6,7,8,9]\n",
    "        \n",
    "    for num in range(2):\n",
    "        if num>0:  \n",
    "            minus = (num-1)*num\n",
    "           # mul = num*minus\n",
    "            print(minus)\n",
    "        \n",
    "factorial_of_num(12)"
   ]
  },
  {
   "cell_type": "code",
   "execution_count": 69,
   "metadata": {
    "scrolled": true
   },
   "outputs": [
    {
     "name": "stdout",
     "output_type": "stream",
     "text": [
      "It is a prime number\n"
     ]
    }
   ],
   "source": [
    "def prime_num(num):\n",
    "    if (num != 2  and num != 3 and num != 5  and num != 7) and (num % 2 == 0 or num % 3 == 0 or num % 5 == 0 or num % 7 == 0):\n",
    "            print(\"It is not prime number\")\n",
    "    else:   print(\"It is a prime number\")    \n",
    "prime_num(11)"
   ]
  },
  {
   "cell_type": "code",
   "execution_count": 63,
   "metadata": {},
   "outputs": [
    {
     "name": "stdout",
     "output_type": "stream",
     "text": [
      "clothes\n",
      "books\n",
      "stationary\n",
      "shoes\n",
      "bags\n",
      "glasses\n",
      "scarfs\n"
     ]
    }
   ],
   "source": [
    "# question no 6\n",
    "\n",
    "def shopping(item1,item2,item3,*param):\n",
    "    \n",
    "    print(item1)\n",
    "    print(item2)\n",
    "    print(item3)\n",
    "    for parameter in param:\n",
    "        print(parameter)\n",
    "shopping(\"clothes\",\"books\",\"stationary\",\"shoes\",\"bags\",\"glasses\",\"scarfs\")"
   ]
  },
  {
   "cell_type": "code",
   "execution_count": null,
   "metadata": {},
   "outputs": [],
   "source": []
  },
  {
   "cell_type": "code",
   "execution_count": null,
   "metadata": {},
   "outputs": [],
   "source": []
  }
 ],
 "metadata": {
  "kernelspec": {
   "display_name": "Python 3",
   "language": "python",
   "name": "python3"
  },
  "language_info": {
   "codemirror_mode": {
    "name": "ipython",
    "version": 3
   },
   "file_extension": ".py",
   "mimetype": "text/x-python",
   "name": "python",
   "nbconvert_exporter": "python",
   "pygments_lexer": "ipython3",
   "version": "3.7.4"
  }
 },
 "nbformat": 4,
 "nbformat_minor": 2
}
